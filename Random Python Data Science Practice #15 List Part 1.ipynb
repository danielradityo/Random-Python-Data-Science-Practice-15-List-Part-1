{
 "cells": [
  {
   "cell_type": "markdown",
   "metadata": {},
   "source": [
    "## Random Python Data Science Practice #15"
   ]
  },
  {
   "cell_type": "markdown",
   "metadata": {},
   "source": [
    "## List Part 1"
   ]
  },
  {
   "cell_type": "code",
   "execution_count": 9,
   "metadata": {},
   "outputs": [
    {
     "name": "stdout",
     "output_type": "stream",
     "text": [
      "['Burger', 'Pizza']\n"
     ]
    }
   ],
   "source": [
    "# List is a mutable library in python, and can store several different data files\n",
    "# Create list\n",
    "food_list = ['Burger', 'Pizza'] # --> List use []\n",
    "print(food_list)"
   ]
  },
  {
   "cell_type": "markdown",
   "metadata": {},
   "source": [
    "## Mutable list"
   ]
  },
  {
   "cell_type": "code",
   "execution_count": 10,
   "metadata": {},
   "outputs": [
    {
     "name": "stdout",
     "output_type": "stream",
     "text": [
      "['Burger', 'Pizza', 'Hotdog']\n"
     ]
    }
   ],
   "source": [
    "# .append() use for add new data to list\n",
    "food_list.append('Hotdog')\n",
    "print(food_list) # Result will add Hotdog to food_list, so list is a mutable library"
   ]
  },
  {
   "cell_type": "markdown",
   "metadata": {},
   "source": [
    "## several different data files"
   ]
  },
  {
   "cell_type": "code",
   "execution_count": 11,
   "metadata": {},
   "outputs": [
    {
     "name": "stdout",
     "output_type": "stream",
     "text": [
      "['Burger', 'Pizza', 'Hotdog', 3.5]\n"
     ]
    }
   ],
   "source": [
    "# add new data but different data file to list\n",
    "food_list.append(3.5)\n",
    "print(food_list) # Result will add 3.5 (float) to food_list, so list can store different data files"
   ]
  },
  {
   "cell_type": "code",
   "execution_count": 12,
   "metadata": {},
   "outputs": [
    {
     "name": "stdout",
     "output_type": "stream",
     "text": [
      "['Burger', 'Pizza', 'Hotdog', 3.5, 2]\n"
     ]
    }
   ],
   "source": [
    "# add new data but different data file to list\n",
    "food_list.append(2)\n",
    "print(food_list) # Result will add 2 (integer) to food_list, so list can store different data files"
   ]
  },
  {
   "cell_type": "code",
   "execution_count": 13,
   "metadata": {},
   "outputs": [
    {
     "name": "stdout",
     "output_type": "stream",
     "text": [
      "['Burger', 'Pizza', 'Hotdog', 3.5, 2, False]\n"
     ]
    }
   ],
   "source": [
    "# add new data but different data file to list\n",
    "food_list.append(False)\n",
    "print(food_list) # Result will add False (boolean) to food_list, so list can store different data files"
   ]
  }
 ],
 "metadata": {
  "kernelspec": {
   "display_name": "Python 3",
   "language": "python",
   "name": "python3"
  },
  "language_info": {
   "codemirror_mode": {
    "name": "ipython",
    "version": 3
   },
   "file_extension": ".py",
   "mimetype": "text/x-python",
   "name": "python",
   "nbconvert_exporter": "python",
   "pygments_lexer": "ipython3",
   "version": "3.8.5"
  }
 },
 "nbformat": 4,
 "nbformat_minor": 4
}
